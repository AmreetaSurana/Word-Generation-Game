{
 "cells": [
  {
   "cell_type": "code",
   "execution_count": null,
   "id": "5bb4e632",
   "metadata": {},
   "outputs": [],
   "source": [
    "import random\n",
    "word_bank = ['bitch', 'motherfucker','shit','asshole','gift','elephant','cat','winter','semester']\n",
    "word = random.choice(word_bank)\n",
    "guessedword = ['_']*len(word)\n",
    "attempts = 10\n",
    "while attempts > 0:\n",
    "    print('\\nCurrent word: ' + ' '.join(guessedword))\n",
    "    guess = input('Guess a letter: ')\n",
    "    if guess in word:\n",
    "        for i in range(len(word)):\n",
    "            if word[i] == guess:\n",
    "                guessedword[i] = guess\n",
    "        print('Great guess!')\n",
    "    else:\n",
    "        attempts -= 1\n",
    "        print('Wrong guess! Attempts left: ' + str(attempts))\n",
    "\n",
    "    if '_' not in guessedword:\n",
    "        print('\\nCongratulations!! You guessed the word: ' + word)\n",
    "        break\n",
    "    else:\n",
    "        print('\\nYou\\'ve run out of attempts! The word was: ' + word)"
   ]
  }
 ],
 "metadata": {
  "kernelspec": {
   "display_name": "Python 3",
   "language": "python",
   "name": "python3"
  },
  "language_info": {
   "codemirror_mode": {
    "name": "ipython",
    "version": 3
   },
   "file_extension": ".py",
   "mimetype": "text/x-python",
   "name": "python",
   "nbconvert_exporter": "python",
   "pygments_lexer": "ipython3",
   "version": "3.11.0"
  }
 },
 "nbformat": 4,
 "nbformat_minor": 5
}
